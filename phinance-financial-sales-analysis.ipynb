{
 "cells": [
  {
   "cell_type": "markdown",
   "metadata": {},
   "source": [
    "# phinance-financial-sales-analysis\n",
    "\n",
    "Use the \"Run\" button to execute the code."
   ]
  },
  {
   "cell_type": "code",
   "execution_count": 1,
   "metadata": {},
   "outputs": [],
   "source": [
    "!pip install jovian --upgrade --quiet"
   ]
  },
  {
   "cell_type": "code",
   "execution_count": 2,
   "metadata": {},
   "outputs": [],
   "source": [
    "b"
   ]
  },
  {
   "cell_type": "code",
   "execution_count": 3,
   "metadata": {},
   "outputs": [
    {
     "data": {
      "application/javascript": [
       "window.require && require([\"base/js/namespace\"],function(Jupyter){Jupyter.notebook.save_checkpoint()})"
      ],
      "text/plain": [
       "<IPython.core.display.Javascript object>"
      ]
     },
     "metadata": {},
     "output_type": "display_data"
    },
    {
     "name": "stdout",
     "output_type": "stream",
     "text": [
      "[jovian] Updating notebook \"olawumifadero-m/phinance-financial-sales-analysis\" on https://jovian.ai\u001b[0m\n",
      "[jovian] Committed successfully! https://jovian.ai/olawumifadero-m/phinance-financial-sales-analysis\u001b[0m\n"
     ]
    },
    {
     "data": {
      "text/plain": [
       "'https://jovian.ai/olawumifadero-m/phinance-financial-sales-analysis'"
      ]
     },
     "execution_count": 3,
     "metadata": {},
     "output_type": "execute_result"
    }
   ],
   "source": [
    "# Execute this to save new versions of the notebook\n",
    "jovian.commit(project=\"phinance-financial-sales-analysis\")"
   ]
  },
  {
   "cell_type": "code",
   "execution_count": 4,
   "metadata": {},
   "outputs": [],
   "source": [
    "# Libraries\n",
    "import pandas as pd\n",
    "import numpy as np\n",
    "import matplotlib.pyplot as plt\n",
    "import seaborn as sns\n",
    "%matplotlib inline"
   ]
  },
  {
   "cell_type": "code",
   "execution_count": 5,
   "metadata": {},
   "outputs": [
    {
     "name": "stdout",
     "output_type": "stream",
     "text": [
      "Collecting openpyxl\n",
      "  Downloading openpyxl-3.0.9-py2.py3-none-any.whl (242 kB)\n",
      "\u001b[K     |████████████████████████████████| 242 kB 7.2 MB/s eta 0:00:01\n",
      "\u001b[?25hCollecting et-xmlfile\n",
      "  Downloading et_xmlfile-1.1.0-py3-none-any.whl (4.7 kB)\n",
      "Installing collected packages: et-xmlfile, openpyxl\n",
      "Successfully installed et-xmlfile-1.1.0 openpyxl-3.0.9\n",
      "Note: you may need to restart the kernel to use updated packages.\n"
     ]
    }
   ],
   "source": [
    "pip install openpyxl"
   ]
  },
  {
   "cell_type": "code",
   "execution_count": 8,
   "metadata": {},
   "outputs": [],
   "source": [
    "# loading data from Googlesheet\n",
    "sheet_id = '1tBeyiiJLPQAfxXB5S4v4f3ZIwiciOA50Po1wcx3Ponc'\n",
    "data_df = pd.read_excel(f\"https://docs.google.com/spreadsheets/d/{sheet_id}/export?format=xlsx\")"
   ]
  },
  {
   "cell_type": "code",
   "execution_count": 9,
   "metadata": {},
   "outputs": [
    {
     "data": {
      "text/html": [
       "<div>\n",
       "<style scoped>\n",
       "    .dataframe tbody tr th:only-of-type {\n",
       "        vertical-align: middle;\n",
       "    }\n",
       "\n",
       "    .dataframe tbody tr th {\n",
       "        vertical-align: top;\n",
       "    }\n",
       "\n",
       "    .dataframe thead th {\n",
       "        text-align: right;\n",
       "    }\n",
       "</style>\n",
       "<table border=\"1\" class=\"dataframe\">\n",
       "  <thead>\n",
       "    <tr style=\"text-align: right;\">\n",
       "      <th></th>\n",
       "      <th>Segment</th>\n",
       "      <th>Country</th>\n",
       "      <th>Product code</th>\n",
       "      <th>Product</th>\n",
       "      <th>Discount Band</th>\n",
       "      <th>Units Sold</th>\n",
       "      <th>Manufacturing Price</th>\n",
       "      <th>Sale Price</th>\n",
       "      <th>Gross Sales</th>\n",
       "      <th>Discounts</th>\n",
       "      <th>Sales</th>\n",
       "      <th>COGS</th>\n",
       "      <th>Profit</th>\n",
       "      <th>Date</th>\n",
       "      <th>Month Number</th>\n",
       "      <th>Month Name</th>\n",
       "      <th>Year</th>\n",
       "    </tr>\n",
       "  </thead>\n",
       "  <tbody>\n",
       "    <tr>\n",
       "      <th>0</th>\n",
       "      <td>Government</td>\n",
       "      <td>Canada</td>\n",
       "      <td>2.0</td>\n",
       "      <td>Carretera</td>\n",
       "      <td>None</td>\n",
       "      <td>1618.5</td>\n",
       "      <td>3.0</td>\n",
       "      <td>20.0</td>\n",
       "      <td>32370.0</td>\n",
       "      <td>0.0</td>\n",
       "      <td>32370.0</td>\n",
       "      <td>16185.0</td>\n",
       "      <td>16185.0</td>\n",
       "      <td>2014-01-01</td>\n",
       "      <td>1.0</td>\n",
       "      <td>January</td>\n",
       "      <td>2014</td>\n",
       "    </tr>\n",
       "    <tr>\n",
       "      <th>1</th>\n",
       "      <td>Government</td>\n",
       "      <td>Germany</td>\n",
       "      <td>2.0</td>\n",
       "      <td>Carretera</td>\n",
       "      <td>None</td>\n",
       "      <td>1321.0</td>\n",
       "      <td>3.0</td>\n",
       "      <td>20.0</td>\n",
       "      <td>26420.0</td>\n",
       "      <td>0.0</td>\n",
       "      <td>26420.0</td>\n",
       "      <td>13210.0</td>\n",
       "      <td>13210.0</td>\n",
       "      <td>2014-01-01</td>\n",
       "      <td>1.0</td>\n",
       "      <td>January</td>\n",
       "      <td>2014</td>\n",
       "    </tr>\n",
       "    <tr>\n",
       "      <th>2</th>\n",
       "      <td>Midmarket</td>\n",
       "      <td>France</td>\n",
       "      <td>2.0</td>\n",
       "      <td>Carretera</td>\n",
       "      <td>None</td>\n",
       "      <td>2178.0</td>\n",
       "      <td>3.0</td>\n",
       "      <td>15.0</td>\n",
       "      <td>32670.0</td>\n",
       "      <td>0.0</td>\n",
       "      <td>32670.0</td>\n",
       "      <td>21780.0</td>\n",
       "      <td>10890.0</td>\n",
       "      <td>2014-06-01</td>\n",
       "      <td>6.0</td>\n",
       "      <td>June</td>\n",
       "      <td>2014</td>\n",
       "    </tr>\n",
       "    <tr>\n",
       "      <th>3</th>\n",
       "      <td>Midmarket</td>\n",
       "      <td>Germany</td>\n",
       "      <td>2.0</td>\n",
       "      <td>Carretera</td>\n",
       "      <td>None</td>\n",
       "      <td>888.0</td>\n",
       "      <td>3.0</td>\n",
       "      <td>15.0</td>\n",
       "      <td>13320.0</td>\n",
       "      <td>0.0</td>\n",
       "      <td>13320.0</td>\n",
       "      <td>8880.0</td>\n",
       "      <td>4440.0</td>\n",
       "      <td>2014-06-01</td>\n",
       "      <td>6.0</td>\n",
       "      <td>June</td>\n",
       "      <td>2014</td>\n",
       "    </tr>\n",
       "    <tr>\n",
       "      <th>4</th>\n",
       "      <td>Midmarket</td>\n",
       "      <td>Mexico</td>\n",
       "      <td>2.0</td>\n",
       "      <td>Carretera</td>\n",
       "      <td>None</td>\n",
       "      <td>2470.0</td>\n",
       "      <td>3.0</td>\n",
       "      <td>15.0</td>\n",
       "      <td>37050.0</td>\n",
       "      <td>0.0</td>\n",
       "      <td>37050.0</td>\n",
       "      <td>24700.0</td>\n",
       "      <td>12350.0</td>\n",
       "      <td>2014-06-01</td>\n",
       "      <td>6.0</td>\n",
       "      <td>June</td>\n",
       "      <td>2014</td>\n",
       "    </tr>\n",
       "  </tbody>\n",
       "</table>\n",
       "</div>"
      ],
      "text/plain": [
       "      Segment  Country  Product code    Product Discount Band  Units Sold  \\\n",
       "0  Government   Canada           2.0  Carretera          None      1618.5   \n",
       "1  Government  Germany           2.0  Carretera          None      1321.0   \n",
       "2   Midmarket   France           2.0  Carretera          None      2178.0   \n",
       "3   Midmarket  Germany           2.0  Carretera          None       888.0   \n",
       "4   Midmarket   Mexico           2.0  Carretera          None      2470.0   \n",
       "\n",
       "   Manufacturing Price  Sale Price  Gross Sales  Discounts    Sales     COGS  \\\n",
       "0                  3.0        20.0      32370.0        0.0  32370.0  16185.0   \n",
       "1                  3.0        20.0      26420.0        0.0  26420.0  13210.0   \n",
       "2                  3.0        15.0      32670.0        0.0  32670.0  21780.0   \n",
       "3                  3.0        15.0      13320.0        0.0  13320.0   8880.0   \n",
       "4                  3.0        15.0      37050.0        0.0  37050.0  24700.0   \n",
       "\n",
       "    Profit       Date  Month Number Month Name  Year  \n",
       "0  16185.0 2014-01-01           1.0    January  2014  \n",
       "1  13210.0 2014-01-01           1.0    January  2014  \n",
       "2  10890.0 2014-06-01           6.0       June  2014  \n",
       "3   4440.0 2014-06-01           6.0       June  2014  \n",
       "4  12350.0 2014-06-01           6.0       June  2014  "
      ]
     },
     "execution_count": 9,
     "metadata": {},
     "output_type": "execute_result"
    }
   ],
   "source": [
    "# reading first five rows of the sales data\n",
    "data_df.head()"
   ]
  },
  {
   "cell_type": "code",
   "execution_count": 10,
   "metadata": {},
   "outputs": [],
   "source": [
    "# remove white spaces\n",
    "data_df.columns = data_df.columns.str.strip()"
   ]
  },
  {
   "cell_type": "code",
   "execution_count": 11,
   "metadata": {},
   "outputs": [],
   "source": [
    "#convert the column names to lowercase\n",
    "data_df.columns = data_df.columns.str.lower()"
   ]
  },
  {
   "cell_type": "code",
   "execution_count": 12,
   "metadata": {},
   "outputs": [
    {
     "data": {
      "text/plain": [
       "Index(['segment', 'country', 'product_code', 'product', 'discount_band',\n",
       "       'units_sold', 'manufacturing_price', 'sale_price', 'gross_sales',\n",
       "       'discounts', 'sales', 'cogs', 'profit', 'date', 'month_number',\n",
       "       'month_name', 'year'],\n",
       "      dtype='object')"
      ]
     },
     "execution_count": 12,
     "metadata": {},
     "output_type": "execute_result"
    }
   ],
   "source": [
    "data_df.columns = data_df.columns.str.replace(' ','_')\n",
    "data_df.columns"
   ]
  },
  {
   "cell_type": "code",
   "execution_count": 13,
   "metadata": {},
   "outputs": [
    {
     "data": {
      "text/plain": [
       "(700, 17)"
      ]
     },
     "execution_count": 13,
     "metadata": {},
     "output_type": "execute_result"
    }
   ],
   "source": [
    "# shape of the dataframe\n",
    "data_df.shape"
   ]
  },
  {
   "cell_type": "code",
   "execution_count": 14,
   "metadata": {},
   "outputs": [
    {
     "data": {
      "text/html": [
       "<div>\n",
       "<style scoped>\n",
       "    .dataframe tbody tr th:only-of-type {\n",
       "        vertical-align: middle;\n",
       "    }\n",
       "\n",
       "    .dataframe tbody tr th {\n",
       "        vertical-align: top;\n",
       "    }\n",
       "\n",
       "    .dataframe thead th {\n",
       "        text-align: right;\n",
       "    }\n",
       "</style>\n",
       "<table border=\"1\" class=\"dataframe\">\n",
       "  <thead>\n",
       "    <tr style=\"text-align: right;\">\n",
       "      <th></th>\n",
       "      <th>product_code</th>\n",
       "      <th>units_sold</th>\n",
       "      <th>manufacturing_price</th>\n",
       "      <th>sale_price</th>\n",
       "      <th>gross_sales</th>\n",
       "      <th>discounts</th>\n",
       "      <th>sales</th>\n",
       "      <th>cogs</th>\n",
       "      <th>profit</th>\n",
       "      <th>month_number</th>\n",
       "      <th>year</th>\n",
       "    </tr>\n",
       "  </thead>\n",
       "  <tbody>\n",
       "    <tr>\n",
       "      <th>count</th>\n",
       "      <td>700.00</td>\n",
       "      <td>700.00</td>\n",
       "      <td>700.00</td>\n",
       "      <td>700.00</td>\n",
       "      <td>700.00</td>\n",
       "      <td>700.00</td>\n",
       "      <td>700.00</td>\n",
       "      <td>700.00</td>\n",
       "      <td>700.00</td>\n",
       "      <td>700.00</td>\n",
       "      <td>700.00</td>\n",
       "    </tr>\n",
       "    <tr>\n",
       "      <th>mean</th>\n",
       "      <td>3.67</td>\n",
       "      <td>1608.29</td>\n",
       "      <td>96.48</td>\n",
       "      <td>118.43</td>\n",
       "      <td>182759.43</td>\n",
       "      <td>13150.35</td>\n",
       "      <td>169609.07</td>\n",
       "      <td>145475.21</td>\n",
       "      <td>24133.86</td>\n",
       "      <td>7.90</td>\n",
       "      <td>2013.75</td>\n",
       "    </tr>\n",
       "    <tr>\n",
       "      <th>std</th>\n",
       "      <td>1.59</td>\n",
       "      <td>867.43</td>\n",
       "      <td>108.60</td>\n",
       "      <td>136.78</td>\n",
       "      <td>254262.28</td>\n",
       "      <td>22962.93</td>\n",
       "      <td>236726.35</td>\n",
       "      <td>203865.51</td>\n",
       "      <td>42760.63</td>\n",
       "      <td>3.38</td>\n",
       "      <td>0.43</td>\n",
       "    </tr>\n",
       "    <tr>\n",
       "      <th>min</th>\n",
       "      <td>1.00</td>\n",
       "      <td>200.00</td>\n",
       "      <td>3.00</td>\n",
       "      <td>7.00</td>\n",
       "      <td>1799.00</td>\n",
       "      <td>0.00</td>\n",
       "      <td>1655.08</td>\n",
       "      <td>918.00</td>\n",
       "      <td>-40617.50</td>\n",
       "      <td>1.00</td>\n",
       "      <td>2013.00</td>\n",
       "    </tr>\n",
       "    <tr>\n",
       "      <th>25%</th>\n",
       "      <td>2.00</td>\n",
       "      <td>905.00</td>\n",
       "      <td>5.00</td>\n",
       "      <td>12.00</td>\n",
       "      <td>17391.75</td>\n",
       "      <td>800.32</td>\n",
       "      <td>15928.00</td>\n",
       "      <td>7490.00</td>\n",
       "      <td>2805.96</td>\n",
       "      <td>5.75</td>\n",
       "      <td>2013.75</td>\n",
       "    </tr>\n",
       "    <tr>\n",
       "      <th>50%</th>\n",
       "      <td>4.00</td>\n",
       "      <td>1542.50</td>\n",
       "      <td>10.00</td>\n",
       "      <td>20.00</td>\n",
       "      <td>37980.00</td>\n",
       "      <td>2585.25</td>\n",
       "      <td>35540.20</td>\n",
       "      <td>22506.25</td>\n",
       "      <td>9242.20</td>\n",
       "      <td>9.00</td>\n",
       "      <td>2014.00</td>\n",
       "    </tr>\n",
       "    <tr>\n",
       "      <th>75%</th>\n",
       "      <td>5.00</td>\n",
       "      <td>2229.12</td>\n",
       "      <td>250.00</td>\n",
       "      <td>300.00</td>\n",
       "      <td>279025.00</td>\n",
       "      <td>15956.34</td>\n",
       "      <td>261077.50</td>\n",
       "      <td>245607.50</td>\n",
       "      <td>22662.00</td>\n",
       "      <td>10.25</td>\n",
       "      <td>2014.00</td>\n",
       "    </tr>\n",
       "    <tr>\n",
       "      <th>max</th>\n",
       "      <td>6.00</td>\n",
       "      <td>4492.50</td>\n",
       "      <td>260.00</td>\n",
       "      <td>350.00</td>\n",
       "      <td>1207500.00</td>\n",
       "      <td>149677.50</td>\n",
       "      <td>1159200.00</td>\n",
       "      <td>950625.00</td>\n",
       "      <td>262200.00</td>\n",
       "      <td>12.00</td>\n",
       "      <td>2014.00</td>\n",
       "    </tr>\n",
       "  </tbody>\n",
       "</table>\n",
       "</div>"
      ],
      "text/plain": [
       "       product_code  units_sold  manufacturing_price  sale_price  gross_sales  \\\n",
       "count        700.00      700.00               700.00      700.00       700.00   \n",
       "mean           3.67     1608.29                96.48      118.43    182759.43   \n",
       "std            1.59      867.43               108.60      136.78    254262.28   \n",
       "min            1.00      200.00                 3.00        7.00      1799.00   \n",
       "25%            2.00      905.00                 5.00       12.00     17391.75   \n",
       "50%            4.00     1542.50                10.00       20.00     37980.00   \n",
       "75%            5.00     2229.12               250.00      300.00    279025.00   \n",
       "max            6.00     4492.50               260.00      350.00   1207500.00   \n",
       "\n",
       "       discounts      sales      cogs    profit  month_number    year  \n",
       "count     700.00     700.00    700.00    700.00        700.00  700.00  \n",
       "mean    13150.35  169609.07 145475.21  24133.86          7.90 2013.75  \n",
       "std     22962.93  236726.35 203865.51  42760.63          3.38    0.43  \n",
       "min         0.00    1655.08    918.00 -40617.50          1.00 2013.00  \n",
       "25%       800.32   15928.00   7490.00   2805.96          5.75 2013.75  \n",
       "50%      2585.25   35540.20  22506.25   9242.20          9.00 2014.00  \n",
       "75%     15956.34  261077.50 245607.50  22662.00         10.25 2014.00  \n",
       "max    149677.50 1159200.00 950625.00 262200.00         12.00 2014.00  "
      ]
     },
     "execution_count": 14,
     "metadata": {},
     "output_type": "execute_result"
    }
   ],
   "source": [
    "# statistical summary of the numberic data types\n",
    "pd.set_option('display.float_format', lambda x: '%.2f' % x)\n",
    "data_df.describe()"
   ]
  },
  {
   "cell_type": "markdown",
   "metadata": {},
   "source": [
    "### Overall summary sales report"
   ]
  },
  {
   "cell_type": "code",
   "execution_count": 15,
   "metadata": {},
   "outputs": [
    {
     "name": "stdout",
     "output_type": "stream",
     "text": [
      "The Total Gross Sales: $127931598.5\n",
      "The total Sales from (2013 - 2014): $118726350.26\n",
      "The average sales: $169609.07\n",
      "The total COGS: $101832648.0\n",
      "The total profit: $16893702.26\n"
     ]
    }
   ],
   "source": [
    "# To find the total sales, avarage sales, total cogs and total profit\n",
    "total_gross_sales = data_df['gross_sales'].sum()\n",
    "total_sales = data_df['sales'].sum()\n",
    "average_sales = data_df['sales'].mean()\n",
    "total_cogs = data_df['cogs'].sum()\n",
    "total_profit = data_df['profit'].sum()\n",
    "\n",
    "print(f\"The Total Gross Sales: ${total_gross_sales}\\n\"\n",
    "f\"The total Sales from (2013 - 2014): ${round(total_sales,2)}\\n\"\n",
    "f\"The average sales: ${round(average_sales,2)}\\n\"\n",
    "f\"The total COGS: ${round(total_cogs,2)}\\n\"\n",
    "f\"The total profit: ${round(total_profit,2)}\")"
   ]
  },
  {
   "cell_type": "code",
   "execution_count": 16,
   "metadata": {},
   "outputs": [
    {
     "name": "stdout",
     "output_type": "stream",
     "text": [
      "The Maximun Sales: $1159200.0\n",
      "The Minimum Sales: $1655.08\n",
      "The Maximum Profit: $262200.0\n",
      "The Minimum Profit: $-40617.5\n"
     ]
    }
   ],
   "source": [
    "# Max sales and profit\n",
    "max_sales = data_df.sales.max()\n",
    "min_sales = data_df.sales.min()\n",
    "max_profit = data_df.profit.max()\n",
    "min_profit = data_df.profit.min()\n",
    "\n",
    "print(f\"The Maximun Sales: ${round(max_sales,2)}\\n\"\n",
    "f\"The Minimum Sales: ${round(min_sales,2)}\\n\"\n",
    "f\"The Maximum Profit: ${round(max_profit,2)}\\n\"\n",
    "f\"The Minimum Profit: ${round(min_profit,2)}\")"
   ]
  },
  {
   "cell_type": "code",
   "execution_count": 17,
   "metadata": {},
   "outputs": [
    {
     "data": {
      "text/html": [
       "<div>\n",
       "<style scoped>\n",
       "    .dataframe tbody tr th:only-of-type {\n",
       "        vertical-align: middle;\n",
       "    }\n",
       "\n",
       "    .dataframe tbody tr th {\n",
       "        vertical-align: top;\n",
       "    }\n",
       "\n",
       "    .dataframe thead th {\n",
       "        text-align: right;\n",
       "    }\n",
       "</style>\n",
       "<table border=\"1\" class=\"dataframe\">\n",
       "  <thead>\n",
       "    <tr style=\"text-align: right;\">\n",
       "      <th></th>\n",
       "      <th>segment</th>\n",
       "      <th>country</th>\n",
       "      <th>product_code</th>\n",
       "      <th>product</th>\n",
       "      <th>discount_band</th>\n",
       "      <th>units_sold</th>\n",
       "      <th>manufacturing_price</th>\n",
       "      <th>sale_price</th>\n",
       "      <th>gross_sales</th>\n",
       "      <th>discounts</th>\n",
       "      <th>sales</th>\n",
       "      <th>cogs</th>\n",
       "      <th>profit</th>\n",
       "      <th>date</th>\n",
       "      <th>month_number</th>\n",
       "      <th>month_name</th>\n",
       "      <th>year</th>\n",
       "    </tr>\n",
       "  </thead>\n",
       "  <tbody>\n",
       "    <tr>\n",
       "      <th>0</th>\n",
       "      <td>Government</td>\n",
       "      <td>Canada</td>\n",
       "      <td>2.00</td>\n",
       "      <td>Carretera</td>\n",
       "      <td>None</td>\n",
       "      <td>1618.50</td>\n",
       "      <td>3.00</td>\n",
       "      <td>20.00</td>\n",
       "      <td>32370.00</td>\n",
       "      <td>0.00</td>\n",
       "      <td>32370.00</td>\n",
       "      <td>16185.00</td>\n",
       "      <td>16185.00</td>\n",
       "      <td>2014-01-01</td>\n",
       "      <td>1.00</td>\n",
       "      <td>January</td>\n",
       "      <td>2014</td>\n",
       "    </tr>\n",
       "    <tr>\n",
       "      <th>1</th>\n",
       "      <td>Government</td>\n",
       "      <td>Germany</td>\n",
       "      <td>2.00</td>\n",
       "      <td>Carretera</td>\n",
       "      <td>None</td>\n",
       "      <td>1321.00</td>\n",
       "      <td>3.00</td>\n",
       "      <td>20.00</td>\n",
       "      <td>26420.00</td>\n",
       "      <td>0.00</td>\n",
       "      <td>26420.00</td>\n",
       "      <td>13210.00</td>\n",
       "      <td>13210.00</td>\n",
       "      <td>2014-01-01</td>\n",
       "      <td>1.00</td>\n",
       "      <td>January</td>\n",
       "      <td>2014</td>\n",
       "    </tr>\n",
       "  </tbody>\n",
       "</table>\n",
       "</div>"
      ],
      "text/plain": [
       "      segment  country  product_code    product discount_band  units_sold  \\\n",
       "0  Government   Canada          2.00  Carretera          None     1618.50   \n",
       "1  Government  Germany          2.00  Carretera          None     1321.00   \n",
       "\n",
       "   manufacturing_price  sale_price  gross_sales  discounts    sales     cogs  \\\n",
       "0                 3.00       20.00     32370.00       0.00 32370.00 16185.00   \n",
       "1                 3.00       20.00     26420.00       0.00 26420.00 13210.00   \n",
       "\n",
       "    profit       date  month_number month_name  year  \n",
       "0 16185.00 2014-01-01          1.00    January  2014  \n",
       "1 13210.00 2014-01-01          1.00    January  2014  "
      ]
     },
     "execution_count": 17,
     "metadata": {},
     "output_type": "execute_result"
    }
   ],
   "source": [
    "data_df.head(2)"
   ]
  },
  {
   "cell_type": "code",
   "execution_count": 18,
   "metadata": {},
   "outputs": [
    {
     "data": {
      "text/html": [
       "<div>\n",
       "<style scoped>\n",
       "    .dataframe tbody tr th:only-of-type {\n",
       "        vertical-align: middle;\n",
       "    }\n",
       "\n",
       "    .dataframe tbody tr th {\n",
       "        vertical-align: top;\n",
       "    }\n",
       "\n",
       "    .dataframe thead th {\n",
       "        text-align: right;\n",
       "    }\n",
       "</style>\n",
       "<table border=\"1\" class=\"dataframe\">\n",
       "  <thead>\n",
       "    <tr style=\"text-align: right;\">\n",
       "      <th></th>\n",
       "      <th>index</th>\n",
       "      <th>product_code</th>\n",
       "    </tr>\n",
       "  </thead>\n",
       "  <tbody>\n",
       "    <tr>\n",
       "      <th>0</th>\n",
       "      <td>4.00</td>\n",
       "      <td>202</td>\n",
       "    </tr>\n",
       "    <tr>\n",
       "      <th>1</th>\n",
       "      <td>5.00</td>\n",
       "      <td>109</td>\n",
       "    </tr>\n",
       "    <tr>\n",
       "      <th>2</th>\n",
       "      <td>6.00</td>\n",
       "      <td>109</td>\n",
       "    </tr>\n",
       "    <tr>\n",
       "      <th>3</th>\n",
       "      <td>1.00</td>\n",
       "      <td>94</td>\n",
       "    </tr>\n",
       "    <tr>\n",
       "      <th>4</th>\n",
       "      <td>2.00</td>\n",
       "      <td>93</td>\n",
       "    </tr>\n",
       "    <tr>\n",
       "      <th>5</th>\n",
       "      <td>3.00</td>\n",
       "      <td>93</td>\n",
       "    </tr>\n",
       "  </tbody>\n",
       "</table>\n",
       "</div>"
      ],
      "text/plain": [
       "   index  product_code\n",
       "0   4.00           202\n",
       "1   5.00           109\n",
       "2   6.00           109\n",
       "3   1.00            94\n",
       "4   2.00            93\n",
       "5   3.00            93"
      ]
     },
     "execution_count": 18,
     "metadata": {},
     "output_type": "execute_result"
    }
   ],
   "source": [
    "# Getting the frequency of the products\n",
    "product_count = data_df.product_code.value_counts().reset_index()\n",
    "product_count"
   ]
  },
  {
   "cell_type": "code",
   "execution_count": 19,
   "metadata": {},
   "outputs": [
    {
     "data": {
      "text/html": [
       "<div>\n",
       "<style scoped>\n",
       "    .dataframe tbody tr th:only-of-type {\n",
       "        vertical-align: middle;\n",
       "    }\n",
       "\n",
       "    .dataframe tbody tr th {\n",
       "        vertical-align: top;\n",
       "    }\n",
       "\n",
       "    .dataframe thead th {\n",
       "        text-align: right;\n",
       "    }\n",
       "</style>\n",
       "<table border=\"1\" class=\"dataframe\">\n",
       "  <thead>\n",
       "    <tr style=\"text-align: right;\">\n",
       "      <th></th>\n",
       "      <th>product</th>\n",
       "      <th>product_code</th>\n",
       "    </tr>\n",
       "  </thead>\n",
       "  <tbody>\n",
       "    <tr>\n",
       "      <th>0</th>\n",
       "      <td>Amarilla</td>\n",
       "      <td>94</td>\n",
       "    </tr>\n",
       "    <tr>\n",
       "      <th>1</th>\n",
       "      <td>Carretera</td>\n",
       "      <td>93</td>\n",
       "    </tr>\n",
       "    <tr>\n",
       "      <th>2</th>\n",
       "      <td>Montana</td>\n",
       "      <td>93</td>\n",
       "    </tr>\n",
       "    <tr>\n",
       "      <th>3</th>\n",
       "      <td>Paseo</td>\n",
       "      <td>202</td>\n",
       "    </tr>\n",
       "    <tr>\n",
       "      <th>4</th>\n",
       "      <td>VTT</td>\n",
       "      <td>109</td>\n",
       "    </tr>\n",
       "    <tr>\n",
       "      <th>5</th>\n",
       "      <td>Velo</td>\n",
       "      <td>109</td>\n",
       "    </tr>\n",
       "  </tbody>\n",
       "</table>\n",
       "</div>"
      ],
      "text/plain": [
       "     product  product_code\n",
       "0   Amarilla            94\n",
       "1  Carretera            93\n",
       "2    Montana            93\n",
       "3      Paseo           202\n",
       "4        VTT           109\n",
       "5       Velo           109"
      ]
     },
     "execution_count": 19,
     "metadata": {},
     "output_type": "execute_result"
    }
   ],
   "source": [
    "freq_product = data_df.groupby(['product'])['product_code'].count().reset_index()\n",
    "freq_product"
   ]
  },
  {
   "cell_type": "code",
   "execution_count": 20,
   "metadata": {},
   "outputs": [],
   "source": [
    "freq_product.set_index('product_code', inplace=True)"
   ]
  },
  {
   "cell_type": "code",
   "execution_count": 21,
   "metadata": {},
   "outputs": [
    {
     "data": {
      "text/plain": [
       "product    Paseo\n",
       "Name: 202, dtype: object"
      ]
     },
     "execution_count": 21,
     "metadata": {},
     "output_type": "execute_result"
    }
   ],
   "source": [
    "#most ordered product\n",
    "freq_product.loc[202]"
   ]
  },
  {
   "cell_type": "code",
   "execution_count": 22,
   "metadata": {},
   "outputs": [
    {
     "data": {
      "text/html": [
       "<div>\n",
       "<style scoped>\n",
       "    .dataframe tbody tr th:only-of-type {\n",
       "        vertical-align: middle;\n",
       "    }\n",
       "\n",
       "    .dataframe tbody tr th {\n",
       "        vertical-align: top;\n",
       "    }\n",
       "\n",
       "    .dataframe thead th {\n",
       "        text-align: right;\n",
       "    }\n",
       "</style>\n",
       "<table border=\"1\" class=\"dataframe\">\n",
       "  <thead>\n",
       "    <tr style=\"text-align: right;\">\n",
       "      <th></th>\n",
       "      <th>gross_sales</th>\n",
       "      <th>sales</th>\n",
       "      <th>cogs</th>\n",
       "      <th>profit</th>\n",
       "    </tr>\n",
       "    <tr>\n",
       "      <th>product</th>\n",
       "      <th></th>\n",
       "      <th></th>\n",
       "      <th></th>\n",
       "      <th></th>\n",
       "    </tr>\n",
       "  </thead>\n",
       "  <tbody>\n",
       "    <tr>\n",
       "      <th>Amarilla</th>\n",
       "      <td>19037279.50</td>\n",
       "      <td>17747116.06</td>\n",
       "      <td>14933012.00</td>\n",
       "      <td>2814104.06</td>\n",
       "    </tr>\n",
       "    <tr>\n",
       "      <th>Carretera</th>\n",
       "      <td>14937520.50</td>\n",
       "      <td>13815307.88</td>\n",
       "      <td>11988503.00</td>\n",
       "      <td>1826804.89</td>\n",
       "    </tr>\n",
       "    <tr>\n",
       "      <th>Montana</th>\n",
       "      <td>16549834.50</td>\n",
       "      <td>15390801.88</td>\n",
       "      <td>13276047.00</td>\n",
       "      <td>2114754.88</td>\n",
       "    </tr>\n",
       "    <tr>\n",
       "      <th>Paseo</th>\n",
       "      <td>35611662.00</td>\n",
       "      <td>33011143.95</td>\n",
       "      <td>28213706.00</td>\n",
       "      <td>4797437.95</td>\n",
       "    </tr>\n",
       "    <tr>\n",
       "      <th>VTT</th>\n",
       "      <td>21968533.50</td>\n",
       "      <td>20511921.02</td>\n",
       "      <td>17477313.00</td>\n",
       "      <td>3034608.02</td>\n",
       "    </tr>\n",
       "    <tr>\n",
       "      <th>Velo</th>\n",
       "      <td>19826768.50</td>\n",
       "      <td>18250059.46</td>\n",
       "      <td>15944067.00</td>\n",
       "      <td>2305992.46</td>\n",
       "    </tr>\n",
       "  </tbody>\n",
       "</table>\n",
       "</div>"
      ],
      "text/plain": [
       "           gross_sales       sales        cogs     profit\n",
       "product                                                  \n",
       "Amarilla   19037279.50 17747116.06 14933012.00 2814104.06\n",
       "Carretera  14937520.50 13815307.88 11988503.00 1826804.89\n",
       "Montana    16549834.50 15390801.88 13276047.00 2114754.88\n",
       "Paseo      35611662.00 33011143.95 28213706.00 4797437.95\n",
       "VTT        21968533.50 20511921.02 17477313.00 3034608.02\n",
       "Velo       19826768.50 18250059.46 15944067.00 2305992.46"
      ]
     },
     "execution_count": 22,
     "metadata": {},
     "output_type": "execute_result"
    }
   ],
   "source": [
    "# Sales,cogs, profit by product\n",
    "pd.set_option('display.float_format', lambda x: '%.2f' % x)\n",
    "data_df.groupby('product')[['gross_sales','sales','cogs','profit']].sum()"
   ]
  },
  {
   "cell_type": "code",
   "execution_count": 23,
   "metadata": {},
   "outputs": [
    {
     "data": {
      "text/plain": [
       "segment\n",
       "Channel Partners    1345.68\n",
       "Enterprise         14573.06\n",
       "Government         12996.02\n",
       "Midmarket           2007.87\n",
       "Small Business     35137.82\n",
       "Name: discounts, dtype: float64"
      ]
     },
     "execution_count": 23,
     "metadata": {},
     "output_type": "execute_result"
    }
   ],
   "source": [
    "#Average discount by segment\n",
    "disc_segment = data_df.groupby('segment')['discounts'].mean()\n",
    "disc_segment"
   ]
  },
  {
   "cell_type": "code",
   "execution_count": 24,
   "metadata": {},
   "outputs": [
    {
     "data": {
      "image/png": "[encoded data removed]",
      "text/plain": [
       "<Figure size 864x576 with 1 Axes>"
      ]
     },
     "metadata": {},
     "output_type": "display_data"
    }
   ],
   "source": [
    "disc_segment.plot(kind='pie', title = 'Average Discounts By Segments', autopct='%1.2f%%', figsize=(12,8));"
   ]
  },
  {
   "cell_type": "code",
   "execution_count": 25,
   "metadata": {},
   "outputs": [
    {
     "data": {
      "text/html": [
       "<div>\n",
       "<style scoped>\n",
       "    .dataframe tbody tr th:only-of-type {\n",
       "        vertical-align: middle;\n",
       "    }\n",
       "\n",
       "    .dataframe tbody tr th {\n",
       "        vertical-align: top;\n",
       "    }\n",
       "\n",
       "    .dataframe thead th {\n",
       "        text-align: right;\n",
       "    }\n",
       "</style>\n",
       "<table border=\"1\" class=\"dataframe\">\n",
       "  <thead>\n",
       "    <tr style=\"text-align: right;\">\n",
       "      <th></th>\n",
       "      <th>sales</th>\n",
       "      <th>cogs</th>\n",
       "      <th>profit</th>\n",
       "    </tr>\n",
       "    <tr>\n",
       "      <th>country</th>\n",
       "      <th></th>\n",
       "      <th></th>\n",
       "      <th></th>\n",
       "    </tr>\n",
       "  </thead>\n",
       "  <tbody>\n",
       "    <tr>\n",
       "      <th>United States of America</th>\n",
       "      <td>$25,029,830.16</td>\n",
       "      <td>$22,034,289.50</td>\n",
       "      <td>$2,995,540.67</td>\n",
       "    </tr>\n",
       "    <tr>\n",
       "      <th>Canada</th>\n",
       "      <td>$24,887,654.89</td>\n",
       "      <td>$21,358,426.00</td>\n",
       "      <td>$3,529,228.88</td>\n",
       "    </tr>\n",
       "    <tr>\n",
       "      <th>France</th>\n",
       "      <td>$24,354,172.28</td>\n",
       "      <td>$20,573,151.50</td>\n",
       "      <td>$3,781,020.78</td>\n",
       "    </tr>\n",
       "    <tr>\n",
       "      <th>Germany</th>\n",
       "      <td>$23,505,340.82</td>\n",
       "      <td>$19,824,952.00</td>\n",
       "      <td>$3,680,388.82</td>\n",
       "    </tr>\n",
       "    <tr>\n",
       "      <th>Mexico</th>\n",
       "      <td>$20,949,352.11</td>\n",
       "      <td>$18,041,829.00</td>\n",
       "      <td>$2,907,523.11</td>\n",
       "    </tr>\n",
       "  </tbody>\n",
       "</table>\n",
       "</div>"
      ],
      "text/plain": [
       "                                  sales           cogs        profit\n",
       "country                                                             \n",
       "United States of America $25,029,830.16 $22,034,289.50 $2,995,540.67\n",
       "Canada                   $24,887,654.89 $21,358,426.00 $3,529,228.88\n",
       "France                   $24,354,172.28 $20,573,151.50 $3,781,020.78\n",
       "Germany                  $23,505,340.82 $19,824,952.00 $3,680,388.82\n",
       "Mexico                   $20,949,352.11 $18,041,829.00 $2,907,523.11"
      ]
     },
     "execution_count": 25,
     "metadata": {},
     "output_type": "execute_result"
    }
   ],
   "source": [
    "# Sales, COGS,Profits by Countries\n",
    "pd.options.display.float_format = '${:,.2f}'.format\n",
    "country_performance = data_df.groupby('country')[['sales','cogs','profit']].sum()\n",
    "country_performance.sort_values('sales', ascending=False)"
   ]
  },
  {
   "cell_type": "code",
   "execution_count": 26,
   "metadata": {},
   "outputs": [
    {
     "data": {
      "image/png": "[encoded data removed]",
      "text/plain": [
       "<Figure size 1080x576 with 1 Axes>"
      ]
     },
     "metadata": {
      "needs_background": "light"
     },
     "output_type": "display_data"
    }
   ],
   "source": [
    "#Plotting the bar chart\n",
    "ax = country_performance.plot(kind='bar', figsize = (15,8), fontsize=12)\n",
    "plt.xlabel('Countries', fontsize = 14)\n",
    "plt.ylabel('Amounts in Million', fontsize = 14)\n",
    "plt.xticks(fontsize = 12, rotation = 360)\n",
    "plt.yticks(fontsize = 14)\n",
    "plt.title('Sales, COGS, and Profit by Countries', fontsize = 16);\n",
    "\n",
    "# For each bar in the chart, add a text label\n",
    "for bar in ax.patches:\n",
    "    # The text annotation for rach bar should be its height\n",
    "    bar_value = bar.get_height()\n",
    "    # Format the text with commas, to separate thousands\n",
    "    text = f' ${bar_value:,.1f}'\n",
    "    # This will give the middle of each bar on the x-axis\n",
    "    text_x = bar.get_x() + bar.get_width() / 2\n",
    "    # get _y is where the bar starts so we add the height to it\n",
    "    text_y = bar.get_y() + bar_value\n",
    "    # getting the face color of the bar to be the font color of the label\n",
    "    bar_color = bar.get_facecolor()\n",
    "    ax.text(text_x, text_y, text, ha='center', va='bottom', color=bar_color, rotation = 90, size=10)"
   ]
  },
  {
   "cell_type": "markdown",
   "metadata": {},
   "source": [
    "### Yearly report"
   ]
  },
  {
   "cell_type": "code",
   "execution_count": 27,
   "metadata": {},
   "outputs": [
    {
     "data": {
      "text/html": [
       "<div>\n",
       "<style scoped>\n",
       "    .dataframe tbody tr th:only-of-type {\n",
       "        vertical-align: middle;\n",
       "    }\n",
       "\n",
       "    .dataframe tbody tr th {\n",
       "        vertical-align: top;\n",
       "    }\n",
       "\n",
       "    .dataframe thead tr th {\n",
       "        text-align: left;\n",
       "    }\n",
       "\n",
       "    .dataframe thead tr:last-of-type th {\n",
       "        text-align: right;\n",
       "    }\n",
       "</style>\n",
       "<table border=\"1\" class=\"dataframe\">\n",
       "  <thead>\n",
       "    <tr>\n",
       "      <th></th>\n",
       "      <th colspan=\"3\" halign=\"left\">sum</th>\n",
       "      <th colspan=\"3\" halign=\"left\">mean</th>\n",
       "    </tr>\n",
       "    <tr>\n",
       "      <th></th>\n",
       "      <th>cogs</th>\n",
       "      <th>profit</th>\n",
       "      <th>sales</th>\n",
       "      <th>cogs</th>\n",
       "      <th>profit</th>\n",
       "      <th>sales</th>\n",
       "    </tr>\n",
       "    <tr>\n",
       "      <th>year</th>\n",
       "      <th></th>\n",
       "      <th></th>\n",
       "      <th></th>\n",
       "      <th></th>\n",
       "      <th></th>\n",
       "      <th></th>\n",
       "    </tr>\n",
       "  </thead>\n",
       "  <tbody>\n",
       "    <tr>\n",
       "      <th>2013</th>\n",
       "      <td>$22,536,791.00</td>\n",
       "      <td>$3,878,464.51</td>\n",
       "      <td>$26,415,255.51</td>\n",
       "      <td>$128,781.66</td>\n",
       "      <td>$22,162.65</td>\n",
       "      <td>$150,944.32</td>\n",
       "    </tr>\n",
       "    <tr>\n",
       "      <th>2014</th>\n",
       "      <td>$79,295,857.00</td>\n",
       "      <td>$13,015,237.75</td>\n",
       "      <td>$92,311,094.75</td>\n",
       "      <td>$151,039.73</td>\n",
       "      <td>$24,790.93</td>\n",
       "      <td>$175,830.66</td>\n",
       "    </tr>\n",
       "    <tr>\n",
       "      <th>All</th>\n",
       "      <td>$101,832,648.00</td>\n",
       "      <td>$16,893,702.26</td>\n",
       "      <td>$118,726,350.26</td>\n",
       "      <td>$145,475.21</td>\n",
       "      <td>$24,133.86</td>\n",
       "      <td>$169,609.07</td>\n",
       "    </tr>\n",
       "  </tbody>\n",
       "</table>\n",
       "</div>"
      ],
      "text/plain": [
       "                 sum                                       mean             \\\n",
       "                cogs         profit           sales        cogs     profit   \n",
       "year                                                                         \n",
       "2013  $22,536,791.00  $3,878,464.51  $26,415,255.51 $128,781.66 $22,162.65   \n",
       "2014  $79,295,857.00 $13,015,237.75  $92,311,094.75 $151,039.73 $24,790.93   \n",
       "All  $101,832,648.00 $16,893,702.26 $118,726,350.26 $145,475.21 $24,133.86   \n",
       "\n",
       "                  \n",
       "           sales  \n",
       "year              \n",
       "2013 $150,944.32  \n",
       "2014 $175,830.66  \n",
       "All  $169,609.07  "
      ]
     },
     "execution_count": 27,
     "metadata": {},
     "output_type": "execute_result"
    }
   ],
   "source": [
    "# Getting yearly report using the Pivot Table\n",
    "data_df.pivot_table(index='year',values = ['sales', 'cogs','profit'], aggfunc=['sum','mean'], margins=True)"
   ]
  },
  {
   "cell_type": "code",
   "execution_count": 28,
   "metadata": {},
   "outputs": [
    {
     "data": {
      "text/html": [
       "<div>\n",
       "<style scoped>\n",
       "    .dataframe tbody tr th:only-of-type {\n",
       "        vertical-align: middle;\n",
       "    }\n",
       "\n",
       "    .dataframe tbody tr th {\n",
       "        vertical-align: top;\n",
       "    }\n",
       "\n",
       "    .dataframe thead th {\n",
       "        text-align: right;\n",
       "    }\n",
       "</style>\n",
       "<table border=\"1\" class=\"dataframe\">\n",
       "  <thead>\n",
       "    <tr style=\"text-align: right;\">\n",
       "      <th></th>\n",
       "      <th></th>\n",
       "      <th>profit</th>\n",
       "      <th>sales</th>\n",
       "    </tr>\n",
       "    <tr>\n",
       "      <th>year</th>\n",
       "      <th>product</th>\n",
       "      <th></th>\n",
       "      <th></th>\n",
       "    </tr>\n",
       "  </thead>\n",
       "  <tbody>\n",
       "    <tr>\n",
       "      <th rowspan=\"6\" valign=\"top\">2014</th>\n",
       "      <th>Paseo</th>\n",
       "      <td>$3,697,584.86</td>\n",
       "      <td>$27,096,396.86</td>\n",
       "    </tr>\n",
       "    <tr>\n",
       "      <th>VTT</th>\n",
       "      <td>$2,156,422.79</td>\n",
       "      <td>$15,110,493.79</td>\n",
       "    </tr>\n",
       "    <tr>\n",
       "      <th>Amarilla</th>\n",
       "      <td>$2,032,154.53</td>\n",
       "      <td>$14,227,983.53</td>\n",
       "    </tr>\n",
       "    <tr>\n",
       "      <th>Carretera</th>\n",
       "      <td>$1,788,036.02</td>\n",
       "      <td>$12,408,442.03</td>\n",
       "    </tr>\n",
       "    <tr>\n",
       "      <th>Velo</th>\n",
       "      <td>$1,684,042.71</td>\n",
       "      <td>$12,052,759.71</td>\n",
       "    </tr>\n",
       "    <tr>\n",
       "      <th>Montana</th>\n",
       "      <td>$1,656,996.84</td>\n",
       "      <td>$11,415,018.84</td>\n",
       "    </tr>\n",
       "    <tr>\n",
       "      <th rowspan=\"6\" valign=\"top\">2013</th>\n",
       "      <th>Velo</th>\n",
       "      <td>$621,949.76</td>\n",
       "      <td>$6,197,299.76</td>\n",
       "    </tr>\n",
       "    <tr>\n",
       "      <th>Paseo</th>\n",
       "      <td>$1,099,853.09</td>\n",
       "      <td>$5,914,747.09</td>\n",
       "    </tr>\n",
       "    <tr>\n",
       "      <th>VTT</th>\n",
       "      <td>$878,185.23</td>\n",
       "      <td>$5,401,427.23</td>\n",
       "    </tr>\n",
       "    <tr>\n",
       "      <th>Montana</th>\n",
       "      <td>$457,758.04</td>\n",
       "      <td>$3,975,783.04</td>\n",
       "    </tr>\n",
       "    <tr>\n",
       "      <th>Amarilla</th>\n",
       "      <td>$781,949.53</td>\n",
       "      <td>$3,519,132.53</td>\n",
       "    </tr>\n",
       "    <tr>\n",
       "      <th>Carretera</th>\n",
       "      <td>$38,768.86</td>\n",
       "      <td>$1,406,865.86</td>\n",
       "    </tr>\n",
       "  </tbody>\n",
       "</table>\n",
       "</div>"
      ],
      "text/plain": [
       "                      profit          sales\n",
       "year product                               \n",
       "2014 Paseo     $3,697,584.86 $27,096,396.86\n",
       "     VTT       $2,156,422.79 $15,110,493.79\n",
       "     Amarilla  $2,032,154.53 $14,227,983.53\n",
       "     Carretera $1,788,036.02 $12,408,442.03\n",
       "     Velo      $1,684,042.71 $12,052,759.71\n",
       "     Montana   $1,656,996.84 $11,415,018.84\n",
       "2013 Velo        $621,949.76  $6,197,299.76\n",
       "     Paseo     $1,099,853.09  $5,914,747.09\n",
       "     VTT         $878,185.23  $5,401,427.23\n",
       "     Montana     $457,758.04  $3,975,783.04\n",
       "     Amarilla    $781,949.53  $3,519,132.53\n",
       "     Carretera    $38,768.86  $1,406,865.86"
      ]
     },
     "execution_count": 28,
     "metadata": {},
     "output_type": "execute_result"
    }
   ],
   "source": [
    "# Getting Sales and Profit by Product\n",
    "sales_profit_by_product = data_df.pivot_table(index=['year','product'],values = ['sales', 'profit'], aggfunc='sum')\n",
    "sales_profit_by_product.sort_values('sales', ascending=False)"
   ]
  },
  {
   "cell_type": "code",
   "execution_count": 29,
   "metadata": {},
   "outputs": [],
   "source": [
    "!pip install jovian --upgrade --quiet"
   ]
  },
  {
   "cell_type": "code",
   "execution_count": 30,
   "metadata": {},
   "outputs": [],
   "source": [
    "import jovian"
   ]
  },
  {
   "cell_type": "code",
   "execution_count": 31,
   "metadata": {},
   "outputs": [
    {
     "data": {
      "application/javascript": [
       "window.require && require([\"base/js/namespace\"],function(Jupyter){Jupyter.notebook.save_checkpoint()})"
      ],
      "text/plain": [
       "<IPython.core.display.Javascript object>"
      ]
     },
     "metadata": {},
     "output_type": "display_data"
    },
    {
     "name": "stdout",
     "output_type": "stream",
     "text": [
      "[jovian] Updating notebook \"olawumifadero-m/phinance-financial-sales-analysis\" on https://jovian.ai\u001b[0m\n",
      "[jovian] Committed successfully! https://jovian.ai/olawumifadero-m/phinance-financial-sales-analysis\u001b[0m\n"
     ]
    },
    {
     "data": {
      "text/plain": [
       "'https://jovian.ai/olawumifadero-m/phinance-financial-sales-analysis'"
      ]
     },
     "execution_count": 31,
     "metadata": {},
     "output_type": "execute_result"
    }
   ],
   "source": [
    "b"
   ]
  },
  {
   "cell_type": "code",
   "execution_count": 33,
   "metadata": {},
   "outputs": [
    {
     "data": {
      "text/html": [
       "<div>\n",
       "<style scoped>\n",
       "    .dataframe tbody tr th:only-of-type {\n",
       "        vertical-align: middle;\n",
       "    }\n",
       "\n",
       "    .dataframe tbody tr th {\n",
       "        vertical-align: top;\n",
       "    }\n",
       "\n",
       "    .dataframe thead th {\n",
       "        text-align: right;\n",
       "    }\n",
       "</style>\n",
       "<table border=\"1\" class=\"dataframe\">\n",
       "  <thead>\n",
       "    <tr style=\"text-align: right;\">\n",
       "      <th>year</th>\n",
       "      <th>2013</th>\n",
       "      <th>2014</th>\n",
       "    </tr>\n",
       "    <tr>\n",
       "      <th>month_name</th>\n",
       "      <th></th>\n",
       "      <th></th>\n",
       "    </tr>\n",
       "  </thead>\n",
       "  <tbody>\n",
       "    <tr>\n",
       "      <th>April</th>\n",
       "      <td>$0.00</td>\n",
       "      <td>$6,964,775.07</td>\n",
       "    </tr>\n",
       "    <tr>\n",
       "      <th>August</th>\n",
       "      <td>$0.00</td>\n",
       "      <td>$5,864,622.42</td>\n",
       "    </tr>\n",
       "    <tr>\n",
       "      <th>December</th>\n",
       "      <td>$5,368,441.08</td>\n",
       "      <td>$11,998,787.90</td>\n",
       "    </tr>\n",
       "    <tr>\n",
       "      <th>February</th>\n",
       "      <td>$0.00</td>\n",
       "      <td>$7,297,531.39</td>\n",
       "    </tr>\n",
       "    <tr>\n",
       "      <th>January</th>\n",
       "      <td>$0.00</td>\n",
       "      <td>$6,607,761.68</td>\n",
       "    </tr>\n",
       "    <tr>\n",
       "      <th>July</th>\n",
       "      <td>$0.00</td>\n",
       "      <td>$8,102,920.18</td>\n",
       "    </tr>\n",
       "    <tr>\n",
       "      <th>June</th>\n",
       "      <td>$0.00</td>\n",
       "      <td>$9,518,893.82</td>\n",
       "    </tr>\n",
       "    <tr>\n",
       "      <th>March</th>\n",
       "      <td>$0.00</td>\n",
       "      <td>$5,586,859.87</td>\n",
       "    </tr>\n",
       "    <tr>\n",
       "      <th>May</th>\n",
       "      <td>$0.00</td>\n",
       "      <td>$6,210,211.06</td>\n",
       "    </tr>\n",
       "    <tr>\n",
       "      <th>November</th>\n",
       "      <td>$7,267,203.30</td>\n",
       "      <td>$5,384,214.20</td>\n",
       "    </tr>\n",
       "    <tr>\n",
       "      <th>October</th>\n",
       "      <td>$9,295,611.10</td>\n",
       "      <td>$12,375,819.92</td>\n",
       "    </tr>\n",
       "    <tr>\n",
       "      <th>September</th>\n",
       "      <td>$4,484,000.03</td>\n",
       "      <td>$6,398,697.24</td>\n",
       "    </tr>\n",
       "  </tbody>\n",
       "</table>\n",
       "</div>"
      ],
      "text/plain": [
       "year                2013           2014\n",
       "month_name                             \n",
       "April              $0.00  $6,964,775.07\n",
       "August             $0.00  $5,864,622.42\n",
       "December   $5,368,441.08 $11,998,787.90\n",
       "February           $0.00  $7,297,531.39\n",
       "January            $0.00  $6,607,761.68\n",
       "July               $0.00  $8,102,920.18\n",
       "June               $0.00  $9,518,893.82\n",
       "March              $0.00  $5,586,859.87\n",
       "May                $0.00  $6,210,211.06\n",
       "November   $7,267,203.30  $5,384,214.20\n",
       "October    $9,295,611.10 $12,375,819.92\n",
       "September  $4,484,000.03  $6,398,697.24"
      ]
     },
     "execution_count": 33,
     "metadata": {},
     "output_type": "execute_result"
    }
   ],
   "source": [
    "# Getting sales by month in each year\n",
    "sales_by_month_by_year = data_df.pivot_table(index='month_name',columns='year', values = 'sales', aggfunc='sum')\n",
    "sales_by_month_by_year.fillna(0)"
   ]
  },
  {
   "cell_type": "code",
   "execution_count": 35,
   "metadata": {},
   "outputs": [
    {
     "data": {
      "image/png": "[encoded data removed]",
      "text/plain": [
       "<Figure size 1008x720 with 1 Axes>"
      ]
     },
     "metadata": {
      "needs_background": "light"
     },
     "output_type": "display_data"
    }
   ],
   "source": [
    "#Ploting the bar chart of sales by month\n",
    "ax = sales_by_month_by_year.plot(kind='barh', width =.7, figsize = (14,10))\n",
    "plt.legend(loc='lower right', ncol=2)\n",
    "plt.title('Sales by Months for each year', fontsize = 16)\n",
    "plt.ylabel('Month', fontsize = 14)\n",
    "plt.xlabel('Sales amounts in Million', fontsize = 14);"
   ]
  },
  {
   "cell_type": "code",
   "execution_count": 36,
   "metadata": {},
   "outputs": [
    {
     "data": {
      "text/html": [
       "<div>\n",
       "<style scoped>\n",
       "    .dataframe tbody tr th:only-of-type {\n",
       "        vertical-align: middle;\n",
       "    }\n",
       "\n",
       "    .dataframe tbody tr th {\n",
       "        vertical-align: top;\n",
       "    }\n",
       "\n",
       "    .dataframe thead th {\n",
       "        text-align: right;\n",
       "    }\n",
       "</style>\n",
       "<table border=\"1\" class=\"dataframe\">\n",
       "  <thead>\n",
       "    <tr style=\"text-align: right;\">\n",
       "      <th>year</th>\n",
       "      <th>2013</th>\n",
       "      <th>2014</th>\n",
       "    </tr>\n",
       "    <tr>\n",
       "      <th>month_name</th>\n",
       "      <th></th>\n",
       "      <th></th>\n",
       "    </tr>\n",
       "  </thead>\n",
       "  <tbody>\n",
       "    <tr>\n",
       "      <th>April</th>\n",
       "      <td>$0.00</td>\n",
       "      <td>$929,984.57</td>\n",
       "    </tr>\n",
       "    <tr>\n",
       "      <th>August</th>\n",
       "      <td>$0.00</td>\n",
       "      <td>$791,066.42</td>\n",
       "    </tr>\n",
       "    <tr>\n",
       "      <th>December</th>\n",
       "      <td>$691,564.08</td>\n",
       "      <td>$2,025,765.90</td>\n",
       "    </tr>\n",
       "    <tr>\n",
       "      <th>February</th>\n",
       "      <td>$0.00</td>\n",
       "      <td>$1,148,547.39</td>\n",
       "    </tr>\n",
       "    <tr>\n",
       "      <th>January</th>\n",
       "      <td>$0.00</td>\n",
       "      <td>$814,028.68</td>\n",
       "    </tr>\n",
       "    <tr>\n",
       "      <th>July</th>\n",
       "      <td>$0.00</td>\n",
       "      <td>$923,865.68</td>\n",
       "    </tr>\n",
       "    <tr>\n",
       "      <th>June</th>\n",
       "      <td>$0.00</td>\n",
       "      <td>$1,473,753.82</td>\n",
       "    </tr>\n",
       "    <tr>\n",
       "      <th>March</th>\n",
       "      <td>$0.00</td>\n",
       "      <td>$669,866.87</td>\n",
       "    </tr>\n",
       "    <tr>\n",
       "      <th>May</th>\n",
       "      <td>$0.00</td>\n",
       "      <td>$828,640.06</td>\n",
       "    </tr>\n",
       "    <tr>\n",
       "      <th>November</th>\n",
       "      <td>$765,502.30</td>\n",
       "      <td>$604,600.20</td>\n",
       "    </tr>\n",
       "    <tr>\n",
       "      <th>October</th>\n",
       "      <td>$1,657,795.10</td>\n",
       "      <td>$1,781,985.92</td>\n",
       "    </tr>\n",
       "    <tr>\n",
       "      <th>September</th>\n",
       "      <td>$763,603.03</td>\n",
       "      <td>$1,023,132.24</td>\n",
       "    </tr>\n",
       "  </tbody>\n",
       "</table>\n",
       "</div>"
      ],
      "text/plain": [
       "year                2013          2014\n",
       "month_name                            \n",
       "April              $0.00   $929,984.57\n",
       "August             $0.00   $791,066.42\n",
       "December     $691,564.08 $2,025,765.90\n",
       "February           $0.00 $1,148,547.39\n",
       "January            $0.00   $814,028.68\n",
       "July               $0.00   $923,865.68\n",
       "June               $0.00 $1,473,753.82\n",
       "March              $0.00   $669,866.87\n",
       "May                $0.00   $828,640.06\n",
       "November     $765,502.30   $604,600.20\n",
       "October    $1,657,795.10 $1,781,985.92\n",
       "September    $763,603.03 $1,023,132.24"
      ]
     },
     "execution_count": 36,
     "metadata": {},
     "output_type": "execute_result"
    }
   ],
   "source": [
    "# Getting profit by month in each year\n",
    "profit_by_month_by_year = data_df.pivot_table(index='month_name',columns='year', values = 'profit', aggfunc='sum')\n",
    "profit_by_month_by_year.fillna(0)"
   ]
  },
  {
   "cell_type": "code",
   "execution_count": 37,
   "metadata": {},
   "outputs": [
    {
     "data": {
      "image/png": "[encoded data removed]",
      "text/plain": [
       "<Figure size 1008x432 with 1 Axes>"
      ]
     },
     "metadata": {
      "needs_background": "light"
     },
     "output_type": "display_data"
    }
   ],
   "source": [
    "# Plotting the bar chart\n",
    "profit_by_month_by_year.plot(kind='bar', figsize = (14,6))\n",
    "plt.title('Proft by Months for each year', fontsize = 16);\n",
    "plt.xlabel('Month', fontsize = 14)\n",
    "plt.ylabel('Profit in Million', fontsize = 14);"
   ]
  },
  {
   "cell_type": "markdown",
   "metadata": {},
   "source": [
    "### Interpretation of findings from the analysis\n",
    "\n",
    "* It was observed that Paseo product has the highest sales and product in the overall summary analysis\n",
    "* Small business segment has the highest average discount of 53.19%.\n",
    "* From the overall summary report, United States has the highest sales of `$25,029,830.16` while France has the highest profit of `$3,781,020.78` followed by Germany.\n",
    "* From the yearly report, total sales increased by 249% and profit increased by 235% in 2014.\n",
    "* In 2013, Velo product has the highest sales while in 2014, Paseo has the highest sales.\n"
   ]
  },
  {
   "cell_type": "code",
   "execution_count": 38,
   "metadata": {},
   "outputs": [],
   "source": [
    "!pip install jovian --upgrade --quiet"
   ]
  },
  {
   "cell_type": "code",
   "execution_count": 39,
   "metadata": {},
   "outputs": [],
   "source": [
    "import jovian"
   ]
  },
  {
   "cell_type": "code",
   "execution_count": null,
   "metadata": {},
   "outputs": [
    {
     "data": {
      "application/javascript": [
       "window.require && require([\"base/js/namespace\"],function(Jupyter){Jupyter.notebook.save_checkpoint()})"
      ],
      "text/plain": [
       "<IPython.core.display.Javascript object>"
      ]
     },
     "metadata": {},
     "output_type": "display_data"
    }
   ],
   "source": [
    "# Execute this to save new versions of the notebook\n",
    "jovian.commit(project=\"phinance-financial-sales-analysis\")"
   ]
  }
 ],
 "metadata": {
  "kernelspec": {
   "display_name": "Python 3 (ipykernel)",
   "language": "python",
   "name": "python3"
  },
  "language_info": {
   "codemirror_mode": {
    "name": "ipython",
    "version": 3
   },
   "file_extension": ".py",
   "mimetype": "text/x-python",
   "name": "python",
   "nbconvert_exporter": "python",
   "pygments_lexer": "ipython3",
   "version": "3.9.6"
  }
 },
 "nbformat": 4,
 "nbformat_minor": 2
}
